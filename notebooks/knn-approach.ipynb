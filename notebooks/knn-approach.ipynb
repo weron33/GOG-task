{
 "cells": [
  {
   "cell_type": "markdown",
   "id": "263878eb",
   "metadata": {},
   "source": [
    "# Data-Lab\n",
    "This file is a place where experiments are perfomed. Here could be presented graphs, created prototype of solutions. One can find more or less well designed models and some ways to present their perfomence. \n",
    "\n",
    "No production-ready code should be found in here."
   ]
  },
  {
   "cell_type": "code",
   "execution_count": 1,
   "id": "2414408d",
   "metadata": {},
   "outputs": [],
   "source": [
    "import pandas as pd \n",
    "import numpy as np\n",
    "import matplotlib.pyplot as plt\n",
    "\n",
    "import scipy"
   ]
  },
  {
   "cell_type": "markdown",
   "id": "47e4ecbc",
   "metadata": {},
   "source": [
    "## Loading data from files"
   ]
  },
  {
   "cell_type": "code",
   "execution_count": 2,
   "id": "52382547",
   "metadata": {},
   "outputs": [
    {
     "data": {
      "text/plain": [
       "'Products: 1000, Users: 9622'"
      ]
     },
     "execution_count": 2,
     "metadata": {},
     "output_type": "execute_result"
    }
   ],
   "source": [
    "products = pd.read_csv('../data/product_details.tsv', sep='\\t')\n",
    "users = pd.read_csv('../data/user_game_time.tsv', sep='\\t')\n",
    "\n",
    "f'Products: {len(products)}, Users: {len(users)}'"
   ]
  },
  {
   "cell_type": "code",
   "execution_count": 3,
   "id": "290dd515",
   "metadata": {},
   "outputs": [
    {
     "data": {
      "text/plain": [
       "array(['Single-player', 'Single-player,Co-op',\n",
       "       'Single-player,Multi-player', 'Single-player,Multi-player,Co-op',\n",
       "       'Multi-player,Co-op', nan], dtype=object)"
      ]
     },
     "execution_count": 3,
     "metadata": {},
     "output_type": "execute_result"
    }
   ],
   "source": [
    "products.game_modes.unique()"
   ]
  },
  {
   "cell_type": "code",
   "execution_count": 4,
   "id": "49cc3bc8",
   "metadata": {},
   "outputs": [
    {
     "data": {
      "text/html": [
       "<div>\n",
       "<style scoped>\n",
       "    .dataframe tbody tr th:only-of-type {\n",
       "        vertical-align: middle;\n",
       "    }\n",
       "\n",
       "    .dataframe tbody tr th {\n",
       "        vertical-align: top;\n",
       "    }\n",
       "\n",
       "    .dataframe thead th {\n",
       "        text-align: right;\n",
       "    }\n",
       "</style>\n",
       "<table border=\"1\" class=\"dataframe\">\n",
       "  <thead>\n",
       "    <tr style=\"text-align: right;\">\n",
       "      <th></th>\n",
       "      <th>user_id</th>\n",
       "      <th>game_id</th>\n",
       "      <th>game_time</th>\n",
       "    </tr>\n",
       "  </thead>\n",
       "  <tbody>\n",
       "    <tr>\n",
       "      <th>0</th>\n",
       "      <td>0</td>\n",
       "      <td>889</td>\n",
       "      <td>0</td>\n",
       "    </tr>\n",
       "    <tr>\n",
       "      <th>1</th>\n",
       "      <td>0</td>\n",
       "      <td>914</td>\n",
       "      <td>5</td>\n",
       "    </tr>\n",
       "    <tr>\n",
       "      <th>2</th>\n",
       "      <td>0</td>\n",
       "      <td>551</td>\n",
       "      <td>236</td>\n",
       "    </tr>\n",
       "    <tr>\n",
       "      <th>3</th>\n",
       "      <td>0</td>\n",
       "      <td>847</td>\n",
       "      <td>290</td>\n",
       "    </tr>\n",
       "    <tr>\n",
       "      <th>4</th>\n",
       "      <td>0</td>\n",
       "      <td>135</td>\n",
       "      <td>379</td>\n",
       "    </tr>\n",
       "  </tbody>\n",
       "</table>\n",
       "</div>"
      ],
      "text/plain": [
       "   user_id  game_id  game_time\n",
       "0        0      889          0\n",
       "1        0      914          5\n",
       "2        0      551        236\n",
       "3        0      847        290\n",
       "4        0      135        379"
      ]
     },
     "execution_count": 4,
     "metadata": {},
     "output_type": "execute_result"
    }
   ],
   "source": [
    "users.head()"
   ]
  },
  {
   "cell_type": "code",
   "execution_count": 5,
   "id": "202bfb6f",
   "metadata": {},
   "outputs": [],
   "source": [
    "def split_modes(modes: str) -> dict:\n",
    "    result = {'Single-player': 0, 'Co-op': 0, 'Multi-player': 0}\n",
    "    try:\n",
    "        if modes.strip():  # Check if modes is not empty or None\n",
    "            mode_list = modes.split(',')\n",
    "            for mode in mode_list:\n",
    "                if mode.strip() in result:\n",
    "                    result[mode.strip()] = 1\n",
    "    except AttributeError:\n",
    "        # modes is None or not a string\n",
    "        pass\n",
    "    return result"
   ]
  },
  {
   "cell_type": "code",
   "execution_count": 6,
   "id": "68ba3805",
   "metadata": {},
   "outputs": [
    {
     "data": {
      "text/html": [
       "<div>\n",
       "<style scoped>\n",
       "    .dataframe tbody tr th:only-of-type {\n",
       "        vertical-align: middle;\n",
       "    }\n",
       "\n",
       "    .dataframe tbody tr th {\n",
       "        vertical-align: top;\n",
       "    }\n",
       "\n",
       "    .dataframe thead th {\n",
       "        text-align: right;\n",
       "    }\n",
       "</style>\n",
       "<table border=\"1\" class=\"dataframe\">\n",
       "  <thead>\n",
       "    <tr style=\"text-align: right;\">\n",
       "      <th></th>\n",
       "      <th>id</th>\n",
       "      <th>title</th>\n",
       "      <th>series_id</th>\n",
       "      <th>genre_1_id</th>\n",
       "      <th>genre_2_id</th>\n",
       "      <th>genre_3_id</th>\n",
       "      <th>price</th>\n",
       "      <th>developer_id</th>\n",
       "      <th>publisher_id</th>\n",
       "      <th>tagline</th>\n",
       "      <th>Single-player</th>\n",
       "      <th>Co-op</th>\n",
       "      <th>Multi-player</th>\n",
       "    </tr>\n",
       "  </thead>\n",
       "  <tbody>\n",
       "    <tr>\n",
       "      <th>0</th>\n",
       "      <td>1215594767</td>\n",
       "      <td>The Fold: Ingression</td>\n",
       "      <td>0</td>\n",
       "      <td>60</td>\n",
       "      <td>69</td>\n",
       "      <td>86</td>\n",
       "      <td>9999</td>\n",
       "      <td>14227</td>\n",
       "      <td>6170</td>\n",
       "      <td>NaN</td>\n",
       "      <td>1</td>\n",
       "      <td>0</td>\n",
       "      <td>0</td>\n",
       "    </tr>\n",
       "    <tr>\n",
       "      <th>1</th>\n",
       "      <td>1443160656</td>\n",
       "      <td>Falcon Gold</td>\n",
       "      <td>0</td>\n",
       "      <td>61</td>\n",
       "      <td>65</td>\n",
       "      <td>73</td>\n",
       "      <td>699</td>\n",
       "      <td>5433</td>\n",
       "      <td>8854</td>\n",
       "      <td>NaN</td>\n",
       "      <td>1</td>\n",
       "      <td>0</td>\n",
       "      <td>0</td>\n",
       "    </tr>\n",
       "    <tr>\n",
       "      <th>2</th>\n",
       "      <td>1584656762</td>\n",
       "      <td>B-17 Flying Fortress: Bombers in Action</td>\n",
       "      <td>0</td>\n",
       "      <td>61</td>\n",
       "      <td>70</td>\n",
       "      <td>74</td>\n",
       "      <td>899</td>\n",
       "      <td>15829</td>\n",
       "      <td>8854</td>\n",
       "      <td>NaN</td>\n",
       "      <td>1</td>\n",
       "      <td>0</td>\n",
       "      <td>0</td>\n",
       "    </tr>\n",
       "    <tr>\n",
       "      <th>3</th>\n",
       "      <td>1181317918</td>\n",
       "      <td>Brewpub Simulator</td>\n",
       "      <td>0</td>\n",
       "      <td>61</td>\n",
       "      <td>65</td>\n",
       "      <td>95</td>\n",
       "      <td>1799</td>\n",
       "      <td>10481</td>\n",
       "      <td>7751</td>\n",
       "      <td>NaN</td>\n",
       "      <td>1</td>\n",
       "      <td>0</td>\n",
       "      <td>0</td>\n",
       "    </tr>\n",
       "    <tr>\n",
       "      <th>4</th>\n",
       "      <td>1240322197</td>\n",
       "      <td>Stray Souls</td>\n",
       "      <td>0</td>\n",
       "      <td>60</td>\n",
       "      <td>69</td>\n",
       "      <td>86</td>\n",
       "      <td>2999</td>\n",
       "      <td>15421</td>\n",
       "      <td>1333</td>\n",
       "      <td>NaN</td>\n",
       "      <td>1</td>\n",
       "      <td>0</td>\n",
       "      <td>0</td>\n",
       "    </tr>\n",
       "    <tr>\n",
       "      <th>...</th>\n",
       "      <td>...</td>\n",
       "      <td>...</td>\n",
       "      <td>...</td>\n",
       "      <td>...</td>\n",
       "      <td>...</td>\n",
       "      <td>...</td>\n",
       "      <td>...</td>\n",
       "      <td>...</td>\n",
       "      <td>...</td>\n",
       "      <td>...</td>\n",
       "      <td>...</td>\n",
       "      <td>...</td>\n",
       "      <td>...</td>\n",
       "    </tr>\n",
       "    <tr>\n",
       "      <th>995</th>\n",
       "      <td>1245136314</td>\n",
       "      <td>Ring of Pain Demo</td>\n",
       "      <td>0</td>\n",
       "      <td>56</td>\n",
       "      <td>221</td>\n",
       "      <td>103</td>\n",
       "      <td>0</td>\n",
       "      <td>11614</td>\n",
       "      <td>6857</td>\n",
       "      <td>NaN</td>\n",
       "      <td>1</td>\n",
       "      <td>0</td>\n",
       "      <td>0</td>\n",
       "    </tr>\n",
       "    <tr>\n",
       "      <th>996</th>\n",
       "      <td>2053196692</td>\n",
       "      <td>Elements</td>\n",
       "      <td>0</td>\n",
       "      <td>60</td>\n",
       "      <td>69</td>\n",
       "      <td>143</td>\n",
       "      <td>9999</td>\n",
       "      <td>12941</td>\n",
       "      <td>7180</td>\n",
       "      <td>NaN</td>\n",
       "      <td>1</td>\n",
       "      <td>0</td>\n",
       "      <td>0</td>\n",
       "    </tr>\n",
       "    <tr>\n",
       "      <th>997</th>\n",
       "      <td>1558393671</td>\n",
       "      <td>Hollow Knight: Silksong</td>\n",
       "      <td>0</td>\n",
       "      <td>87</td>\n",
       "      <td>64</td>\n",
       "      <td>133</td>\n",
       "      <td>9999</td>\n",
       "      <td>8063</td>\n",
       "      <td>4973</td>\n",
       "      <td>NaN</td>\n",
       "      <td>1</td>\n",
       "      <td>0</td>\n",
       "      <td>0</td>\n",
       "    </tr>\n",
       "    <tr>\n",
       "      <th>998</th>\n",
       "      <td>1584302429</td>\n",
       "      <td>Freight Tycoon Inc.</td>\n",
       "      <td>0</td>\n",
       "      <td>56</td>\n",
       "      <td>93</td>\n",
       "      <td>95</td>\n",
       "      <td>499</td>\n",
       "      <td>6823</td>\n",
       "      <td>6170</td>\n",
       "      <td>NaN</td>\n",
       "      <td>1</td>\n",
       "      <td>0</td>\n",
       "      <td>0</td>\n",
       "    </tr>\n",
       "    <tr>\n",
       "      <th>999</th>\n",
       "      <td>1881901933</td>\n",
       "      <td>Pepper Grinder</td>\n",
       "      <td>0</td>\n",
       "      <td>60</td>\n",
       "      <td>69</td>\n",
       "      <td>80</td>\n",
       "      <td>9999</td>\n",
       "      <td>14647</td>\n",
       "      <td>74</td>\n",
       "      <td>NaN</td>\n",
       "      <td>1</td>\n",
       "      <td>0</td>\n",
       "      <td>0</td>\n",
       "    </tr>\n",
       "  </tbody>\n",
       "</table>\n",
       "<p>1000 rows × 13 columns</p>\n",
       "</div>"
      ],
      "text/plain": [
       "             id                                    title  series_id  \\\n",
       "0    1215594767                     The Fold: Ingression          0   \n",
       "1    1443160656                              Falcon Gold          0   \n",
       "2    1584656762  B-17 Flying Fortress: Bombers in Action          0   \n",
       "3    1181317918                        Brewpub Simulator          0   \n",
       "4    1240322197                              Stray Souls          0   \n",
       "..          ...                                      ...        ...   \n",
       "995  1245136314                        Ring of Pain Demo          0   \n",
       "996  2053196692                                 Elements          0   \n",
       "997  1558393671                  Hollow Knight: Silksong          0   \n",
       "998  1584302429                      Freight Tycoon Inc.          0   \n",
       "999  1881901933                           Pepper Grinder          0   \n",
       "\n",
       "     genre_1_id  genre_2_id  genre_3_id  price  developer_id  publisher_id  \\\n",
       "0            60          69          86   9999         14227          6170   \n",
       "1            61          65          73    699          5433          8854   \n",
       "2            61          70          74    899         15829          8854   \n",
       "3            61          65          95   1799         10481          7751   \n",
       "4            60          69          86   2999         15421          1333   \n",
       "..          ...         ...         ...    ...           ...           ...   \n",
       "995          56         221         103      0         11614          6857   \n",
       "996          60          69         143   9999         12941          7180   \n",
       "997          87          64         133   9999          8063          4973   \n",
       "998          56          93          95    499          6823          6170   \n",
       "999          60          69          80   9999         14647            74   \n",
       "\n",
       "    tagline  Single-player  Co-op  Multi-player  \n",
       "0       NaN              1      0             0  \n",
       "1       NaN              1      0             0  \n",
       "2       NaN              1      0             0  \n",
       "3       NaN              1      0             0  \n",
       "4       NaN              1      0             0  \n",
       "..      ...            ...    ...           ...  \n",
       "995     NaN              1      0             0  \n",
       "996     NaN              1      0             0  \n",
       "997     NaN              1      0             0  \n",
       "998     NaN              1      0             0  \n",
       "999     NaN              1      0             0  \n",
       "\n",
       "[1000 rows x 13 columns]"
      ]
     },
     "execution_count": 6,
     "metadata": {},
     "output_type": "execute_result"
    }
   ],
   "source": [
    "products['game_modes'] = products['game_modes'].apply(lambda x: split_modes(x))\n",
    "products = pd.concat([products.drop(columns='game_modes'), products['game_modes'].apply(pd.Series)], axis=1)\n",
    "products"
   ]
  },
  {
   "cell_type": "markdown",
   "id": "f33a9a60",
   "metadata": {},
   "source": [
    "## Understanding the data"
   ]
  },
  {
   "cell_type": "code",
   "execution_count": 7,
   "id": "62d4a878",
   "metadata": {},
   "outputs": [],
   "source": [
    "products['title'] = products['title'].astype('category').cat.codes\n",
    "products['tagline'] = products['tagline'].astype('category').cat.codes"
   ]
  },
  {
   "cell_type": "code",
   "execution_count": 8,
   "id": "e01dd9c7",
   "metadata": {},
   "outputs": [
    {
     "name": "stdout",
     "output_type": "stream",
     "text": [
      "Not including columns: []\n"
     ]
    },
    {
     "data": {
      "image/png": "[encoded data removed]",
      "text/plain": [
       "<Figure size 480x480 with 1 Axes>"
      ]
     },
     "metadata": {},
     "output_type": "display_data"
    }
   ],
   "source": [
    "corr = products.corr()\n",
    "\n",
    "print(f'Not including columns: {[column for column in products.columns if column not in corr.columns]}')\n",
    "\n",
    "plt.matshow(corr)\n",
    "plt.xticks(ticks=range(len(corr.columns)), labels=corr.columns, rotation=45)\n",
    "plt.yticks(ticks=range(len(corr.columns)), labels=corr.columns)\n",
    "plt.show()"
   ]
  },
  {
   "cell_type": "code",
   "execution_count": 9,
   "id": "c3a2c46d",
   "metadata": {},
   "outputs": [
    {
     "name": "stdout",
     "output_type": "stream",
     "text": [
      "Not including columns: []\n"
     ]
    },
    {
     "data": {
      "image/png": "[encoded data removed]",
      "text/plain": [
       "<Figure size 480x480 with 1 Axes>"
      ]
     },
     "metadata": {},
     "output_type": "display_data"
    }
   ],
   "source": [
    "corr = users.corr()\n",
    "\n",
    "print(f'Not including columns: {[column for column in users.columns if column not in corr.columns]}')\n",
    "\n",
    "plt.matshow(corr)\n",
    "plt.xticks(ticks=range(len(corr.columns)), labels=corr.columns, rotation=45)\n",
    "plt.yticks(ticks=range(len(corr.columns)), labels=corr.columns)\n",
    "plt.show()"
   ]
  },
  {
   "cell_type": "code",
   "execution_count": 10,
   "id": "bb2adbd6",
   "metadata": {},
   "outputs": [],
   "source": [
    "def show_uniques_per_column(df: pd.DataFrame) -> None:\n",
    "    for column in df.columns:\n",
    "        print(f'Number of uniques of column \"{column}\": {len(df[column].unique())}')"
   ]
  },
  {
   "cell_type": "code",
   "execution_count": 11,
   "id": "bbb9265a",
   "metadata": {},
   "outputs": [
    {
     "name": "stdout",
     "output_type": "stream",
     "text": [
      "Number of uniques of column \"id\": 1000\n",
      "Number of uniques of column \"title\": 1000\n",
      "Number of uniques of column \"series_id\": 193\n",
      "Number of uniques of column \"genre_1_id\": 9\n",
      "Number of uniques of column \"genre_2_id\": 21\n",
      "Number of uniques of column \"genre_3_id\": 35\n",
      "Number of uniques of column \"price\": 40\n",
      "Number of uniques of column \"developer_id\": 824\n",
      "Number of uniques of column \"publisher_id\": 479\n",
      "Number of uniques of column \"tagline\": 26\n",
      "Number of uniques of column \"Single-player\": 2\n",
      "Number of uniques of column \"Co-op\": 2\n",
      "Number of uniques of column \"Multi-player\": 2\n"
     ]
    }
   ],
   "source": [
    "show_uniques_per_column(products)"
   ]
  },
  {
   "cell_type": "code",
   "execution_count": 12,
   "id": "2c2eb930",
   "metadata": {},
   "outputs": [
    {
     "name": "stdout",
     "output_type": "stream",
     "text": [
      "Number of uniques of column \"user_id\": 878\n",
      "Number of uniques of column \"game_id\": 998\n",
      "Number of uniques of column \"game_time\": 1397\n"
     ]
    }
   ],
   "source": [
    "show_uniques_per_column(users)"
   ]
  },
  {
   "cell_type": "code",
   "execution_count": 13,
   "id": "0bf32d69",
   "metadata": {},
   "outputs": [
    {
     "data": {
      "text/plain": [
       "array([[<AxesSubplot: title={'center': 'id'}>,\n",
       "        <AxesSubplot: title={'center': 'title'}>,\n",
       "        <AxesSubplot: title={'center': 'series_id'}>,\n",
       "        <AxesSubplot: title={'center': 'genre_1_id'}>],\n",
       "       [<AxesSubplot: title={'center': 'genre_2_id'}>,\n",
       "        <AxesSubplot: title={'center': 'genre_3_id'}>,\n",
       "        <AxesSubplot: title={'center': 'price'}>,\n",
       "        <AxesSubplot: title={'center': 'developer_id'}>],\n",
       "       [<AxesSubplot: title={'center': 'publisher_id'}>,\n",
       "        <AxesSubplot: title={'center': 'tagline'}>,\n",
       "        <AxesSubplot: title={'center': 'Single-player'}>,\n",
       "        <AxesSubplot: title={'center': 'Co-op'}>],\n",
       "       [<AxesSubplot: title={'center': 'Multi-player'}>, <AxesSubplot: >,\n",
       "        <AxesSubplot: >, <AxesSubplot: >]], dtype=object)"
      ]
     },
     "execution_count": 13,
     "metadata": {},
     "output_type": "execute_result"
    },
    {
     "data": {
      "image/png": "[encoded data removed]",
      "text/plain": [
       "<Figure size 640x480 with 16 Axes>"
      ]
     },
     "metadata": {},
     "output_type": "display_data"
    }
   ],
   "source": [
    "products.hist()"
   ]
  },
  {
   "cell_type": "code",
   "execution_count": 14,
   "id": "3bd2e2e0",
   "metadata": {},
   "outputs": [
    {
     "data": {
      "text/plain": [
       "array([[<AxesSubplot: title={'center': 'user_id'}>,\n",
       "        <AxesSubplot: title={'center': 'game_id'}>],\n",
       "       [<AxesSubplot: title={'center': 'game_time'}>, <AxesSubplot: >]],\n",
       "      dtype=object)"
      ]
     },
     "execution_count": 14,
     "metadata": {},
     "output_type": "execute_result"
    },
    {
     "data": {
      "image/png": "[encoded data removed]",
      "text/plain": [
       "<Figure size 640x480 with 4 Axes>"
      ]
     },
     "metadata": {},
     "output_type": "display_data"
    }
   ],
   "source": [
    "users.hist()"
   ]
  },
  {
   "cell_type": "markdown",
   "id": "dd01fd9a",
   "metadata": {},
   "source": [
    "## Cosine Similarity approach\n",
    "#### First of all let's merge users with the games they bought. It will present who bought which game and how much time one spend in every game. "
   ]
  },
  {
   "cell_type": "code",
   "execution_count": 15,
   "id": "bf6e9177",
   "metadata": {},
   "outputs": [],
   "source": [
    "df = users.merge(products, left_on='game_id', right_on='id', how='right')"
   ]
  },
  {
   "cell_type": "code",
   "execution_count": 16,
   "id": "40032813",
   "metadata": {},
   "outputs": [
    {
     "name": "stdout",
     "output_type": "stream",
     "text": [
      "<class 'pandas.core.frame.DataFrame'>\n",
      "Int64Index: 1010 entries, 0 to 1009\n",
      "Data columns (total 16 columns):\n",
      " #   Column         Non-Null Count  Dtype  \n",
      "---  ------         --------------  -----  \n",
      " 0   user_id        12 non-null     float64\n",
      " 1   game_id        12 non-null     float64\n",
      " 2   game_time      12 non-null     float64\n",
      " 3   id             1010 non-null   int64  \n",
      " 4   title          1010 non-null   int16  \n",
      " 5   series_id      1010 non-null   int64  \n",
      " 6   genre_1_id     1010 non-null   int64  \n",
      " 7   genre_2_id     1010 non-null   int64  \n",
      " 8   genre_3_id     1010 non-null   int64  \n",
      " 9   price          1010 non-null   int64  \n",
      " 10  developer_id   1010 non-null   int64  \n",
      " 11  publisher_id   1010 non-null   int64  \n",
      " 12  tagline        1010 non-null   int8   \n",
      " 13  Single-player  1010 non-null   int64  \n",
      " 14  Co-op          1010 non-null   int64  \n",
      " 15  Multi-player   1010 non-null   int64  \n",
      "dtypes: float64(3), int16(1), int64(11), int8(1)\n",
      "memory usage: 121.3 KB\n"
     ]
    }
   ],
   "source": [
    "df.info()"
   ]
  },
  {
   "cell_type": "markdown",
   "id": "8b1ad5c1",
   "metadata": {},
   "source": [
    "#### So it appeares there are only 12 games that was accually bought. \n",
    "\n",
    "#### Next step then is to drop empty records, since it is important to know why said games were bought."
   ]
  },
  {
   "cell_type": "code",
   "execution_count": 17,
   "id": "f3e1b021",
   "metadata": {},
   "outputs": [],
   "source": [
    "# Most of game_ids don't matches ids numbers from products dataframe \n",
    "# (I assume with real data, things would go different) \n",
    "\n",
    "df = df.fillna(0)"
   ]
  },
  {
   "cell_type": "code",
   "execution_count": 18,
   "id": "920f57ec",
   "metadata": {},
   "outputs": [
    {
     "data": {
      "text/html": [
       "<div>\n",
       "<style scoped>\n",
       "    .dataframe tbody tr th:only-of-type {\n",
       "        vertical-align: middle;\n",
       "    }\n",
       "\n",
       "    .dataframe tbody tr th {\n",
       "        vertical-align: top;\n",
       "    }\n",
       "\n",
       "    .dataframe thead th {\n",
       "        text-align: right;\n",
       "    }\n",
       "</style>\n",
       "<table border=\"1\" class=\"dataframe\">\n",
       "  <thead>\n",
       "    <tr style=\"text-align: right;\">\n",
       "      <th></th>\n",
       "      <th>user_id</th>\n",
       "      <th>game_id</th>\n",
       "      <th>game_time</th>\n",
       "      <th>id</th>\n",
       "      <th>title</th>\n",
       "      <th>series_id</th>\n",
       "      <th>genre_1_id</th>\n",
       "      <th>genre_2_id</th>\n",
       "      <th>genre_3_id</th>\n",
       "      <th>price</th>\n",
       "      <th>developer_id</th>\n",
       "      <th>publisher_id</th>\n",
       "      <th>tagline</th>\n",
       "      <th>Single-player</th>\n",
       "      <th>Co-op</th>\n",
       "      <th>Multi-player</th>\n",
       "    </tr>\n",
       "  </thead>\n",
       "  <tbody>\n",
       "    <tr>\n",
       "      <th>0</th>\n",
       "      <td>0.0</td>\n",
       "      <td>0.0</td>\n",
       "      <td>0.0</td>\n",
       "      <td>1215594767</td>\n",
       "      <td>818</td>\n",
       "      <td>0</td>\n",
       "      <td>60</td>\n",
       "      <td>69</td>\n",
       "      <td>86</td>\n",
       "      <td>9999</td>\n",
       "      <td>14227</td>\n",
       "      <td>6170</td>\n",
       "      <td>-1</td>\n",
       "      <td>1</td>\n",
       "      <td>0</td>\n",
       "      <td>0</td>\n",
       "    </tr>\n",
       "    <tr>\n",
       "      <th>1</th>\n",
       "      <td>0.0</td>\n",
       "      <td>0.0</td>\n",
       "      <td>0.0</td>\n",
       "      <td>1443160656</td>\n",
       "      <td>282</td>\n",
       "      <td>0</td>\n",
       "      <td>61</td>\n",
       "      <td>65</td>\n",
       "      <td>73</td>\n",
       "      <td>699</td>\n",
       "      <td>5433</td>\n",
       "      <td>8854</td>\n",
       "      <td>-1</td>\n",
       "      <td>1</td>\n",
       "      <td>0</td>\n",
       "      <td>0</td>\n",
       "    </tr>\n",
       "    <tr>\n",
       "      <th>2</th>\n",
       "      <td>0.0</td>\n",
       "      <td>0.0</td>\n",
       "      <td>0.0</td>\n",
       "      <td>1584656762</td>\n",
       "      <td>79</td>\n",
       "      <td>0</td>\n",
       "      <td>61</td>\n",
       "      <td>70</td>\n",
       "      <td>74</td>\n",
       "      <td>899</td>\n",
       "      <td>15829</td>\n",
       "      <td>8854</td>\n",
       "      <td>-1</td>\n",
       "      <td>1</td>\n",
       "      <td>0</td>\n",
       "      <td>0</td>\n",
       "    </tr>\n",
       "    <tr>\n",
       "      <th>3</th>\n",
       "      <td>0.0</td>\n",
       "      <td>0.0</td>\n",
       "      <td>0.0</td>\n",
       "      <td>1181317918</td>\n",
       "      <td>117</td>\n",
       "      <td>0</td>\n",
       "      <td>61</td>\n",
       "      <td>65</td>\n",
       "      <td>95</td>\n",
       "      <td>1799</td>\n",
       "      <td>10481</td>\n",
       "      <td>7751</td>\n",
       "      <td>-1</td>\n",
       "      <td>1</td>\n",
       "      <td>0</td>\n",
       "      <td>0</td>\n",
       "    </tr>\n",
       "    <tr>\n",
       "      <th>4</th>\n",
       "      <td>0.0</td>\n",
       "      <td>0.0</td>\n",
       "      <td>0.0</td>\n",
       "      <td>1240322197</td>\n",
       "      <td>754</td>\n",
       "      <td>0</td>\n",
       "      <td>60</td>\n",
       "      <td>69</td>\n",
       "      <td>86</td>\n",
       "      <td>2999</td>\n",
       "      <td>15421</td>\n",
       "      <td>1333</td>\n",
       "      <td>-1</td>\n",
       "      <td>1</td>\n",
       "      <td>0</td>\n",
       "      <td>0</td>\n",
       "    </tr>\n",
       "    <tr>\n",
       "      <th>...</th>\n",
       "      <td>...</td>\n",
       "      <td>...</td>\n",
       "      <td>...</td>\n",
       "      <td>...</td>\n",
       "      <td>...</td>\n",
       "      <td>...</td>\n",
       "      <td>...</td>\n",
       "      <td>...</td>\n",
       "      <td>...</td>\n",
       "      <td>...</td>\n",
       "      <td>...</td>\n",
       "      <td>...</td>\n",
       "      <td>...</td>\n",
       "      <td>...</td>\n",
       "      <td>...</td>\n",
       "      <td>...</td>\n",
       "    </tr>\n",
       "    <tr>\n",
       "      <th>1005</th>\n",
       "      <td>0.0</td>\n",
       "      <td>0.0</td>\n",
       "      <td>0.0</td>\n",
       "      <td>1245136314</td>\n",
       "      <td>642</td>\n",
       "      <td>0</td>\n",
       "      <td>56</td>\n",
       "      <td>221</td>\n",
       "      <td>103</td>\n",
       "      <td>0</td>\n",
       "      <td>11614</td>\n",
       "      <td>6857</td>\n",
       "      <td>-1</td>\n",
       "      <td>1</td>\n",
       "      <td>0</td>\n",
       "      <td>0</td>\n",
       "    </tr>\n",
       "    <tr>\n",
       "      <th>1006</th>\n",
       "      <td>0.0</td>\n",
       "      <td>0.0</td>\n",
       "      <td>0.0</td>\n",
       "      <td>2053196692</td>\n",
       "      <td>260</td>\n",
       "      <td>0</td>\n",
       "      <td>60</td>\n",
       "      <td>69</td>\n",
       "      <td>143</td>\n",
       "      <td>9999</td>\n",
       "      <td>12941</td>\n",
       "      <td>7180</td>\n",
       "      <td>-1</td>\n",
       "      <td>1</td>\n",
       "      <td>0</td>\n",
       "      <td>0</td>\n",
       "    </tr>\n",
       "    <tr>\n",
       "      <th>1007</th>\n",
       "      <td>0.0</td>\n",
       "      <td>0.0</td>\n",
       "      <td>0.0</td>\n",
       "      <td>1558393671</td>\n",
       "      <td>365</td>\n",
       "      <td>0</td>\n",
       "      <td>87</td>\n",
       "      <td>64</td>\n",
       "      <td>133</td>\n",
       "      <td>9999</td>\n",
       "      <td>8063</td>\n",
       "      <td>4973</td>\n",
       "      <td>-1</td>\n",
       "      <td>1</td>\n",
       "      <td>0</td>\n",
       "      <td>0</td>\n",
       "    </tr>\n",
       "    <tr>\n",
       "      <th>1008</th>\n",
       "      <td>0.0</td>\n",
       "      <td>0.0</td>\n",
       "      <td>0.0</td>\n",
       "      <td>1584302429</td>\n",
       "      <td>306</td>\n",
       "      <td>0</td>\n",
       "      <td>56</td>\n",
       "      <td>93</td>\n",
       "      <td>95</td>\n",
       "      <td>499</td>\n",
       "      <td>6823</td>\n",
       "      <td>6170</td>\n",
       "      <td>-1</td>\n",
       "      <td>1</td>\n",
       "      <td>0</td>\n",
       "      <td>0</td>\n",
       "    </tr>\n",
       "    <tr>\n",
       "      <th>1009</th>\n",
       "      <td>0.0</td>\n",
       "      <td>0.0</td>\n",
       "      <td>0.0</td>\n",
       "      <td>1881901933</td>\n",
       "      <td>574</td>\n",
       "      <td>0</td>\n",
       "      <td>60</td>\n",
       "      <td>69</td>\n",
       "      <td>80</td>\n",
       "      <td>9999</td>\n",
       "      <td>14647</td>\n",
       "      <td>74</td>\n",
       "      <td>-1</td>\n",
       "      <td>1</td>\n",
       "      <td>0</td>\n",
       "      <td>0</td>\n",
       "    </tr>\n",
       "  </tbody>\n",
       "</table>\n",
       "<p>1010 rows × 16 columns</p>\n",
       "</div>"
      ],
      "text/plain": [
       "      user_id  game_id  game_time          id  title  series_id  genre_1_id  \\\n",
       "0         0.0      0.0        0.0  1215594767    818          0          60   \n",
       "1         0.0      0.0        0.0  1443160656    282          0          61   \n",
       "2         0.0      0.0        0.0  1584656762     79          0          61   \n",
       "3         0.0      0.0        0.0  1181317918    117          0          61   \n",
       "4         0.0      0.0        0.0  1240322197    754          0          60   \n",
       "...       ...      ...        ...         ...    ...        ...         ...   \n",
       "1005      0.0      0.0        0.0  1245136314    642          0          56   \n",
       "1006      0.0      0.0        0.0  2053196692    260          0          60   \n",
       "1007      0.0      0.0        0.0  1558393671    365          0          87   \n",
       "1008      0.0      0.0        0.0  1584302429    306          0          56   \n",
       "1009      0.0      0.0        0.0  1881901933    574          0          60   \n",
       "\n",
       "      genre_2_id  genre_3_id  price  developer_id  publisher_id  tagline  \\\n",
       "0             69          86   9999         14227          6170       -1   \n",
       "1             65          73    699          5433          8854       -1   \n",
       "2             70          74    899         15829          8854       -1   \n",
       "3             65          95   1799         10481          7751       -1   \n",
       "4             69          86   2999         15421          1333       -1   \n",
       "...          ...         ...    ...           ...           ...      ...   \n",
       "1005         221         103      0         11614          6857       -1   \n",
       "1006          69         143   9999         12941          7180       -1   \n",
       "1007          64         133   9999          8063          4973       -1   \n",
       "1008          93          95    499          6823          6170       -1   \n",
       "1009          69          80   9999         14647            74       -1   \n",
       "\n",
       "      Single-player  Co-op  Multi-player  \n",
       "0                 1      0             0  \n",
       "1                 1      0             0  \n",
       "2                 1      0             0  \n",
       "3                 1      0             0  \n",
       "4                 1      0             0  \n",
       "...             ...    ...           ...  \n",
       "1005              1      0             0  \n",
       "1006              1      0             0  \n",
       "1007              1      0             0  \n",
       "1008              1      0             0  \n",
       "1009              1      0             0  \n",
       "\n",
       "[1010 rows x 16 columns]"
      ]
     },
     "execution_count": 18,
     "metadata": {},
     "output_type": "execute_result"
    }
   ],
   "source": [
    "df"
   ]
  },
  {
   "cell_type": "markdown",
   "id": "22b88902",
   "metadata": {},
   "source": [
    "#### Now, let's aggregate data. \n",
    "#### Goal is to figure out what are each customer's preferences. In order to do so it is neccessery to represent each user by his \"dream game\".  Then we can find the most similar game in store."
   ]
  },
  {
   "cell_type": "code",
   "execution_count": 19,
   "id": "14fd03be",
   "metadata": {},
   "outputs": [],
   "source": [
    "# Okay, so as is shown on the \n",
    "\n",
    "users = df.groupby('user_id').agg(\n",
    "    most_freq_series=('series_id', pd.Series.mode),\n",
    "    most_freq_genre_1=('genre_1_id', pd.Series.mode),\n",
    "    most_freq_genre_2=('genre_2_id', pd.Series.mode),\n",
    "    most_freq_genre_3=('genre_3_id', pd.Series.mode),\n",
    "    most_freq_dev=('developer_id', pd.Series.mode),\n",
    "    most_freq_pub=('publisher_id', pd.Series.mode),\n",
    "    avg_price=('price', 'mean'),\n",
    "    avg_single_mode=('Single-player', 'mean'),\n",
    "    avg_coop_mode=('Co-op', 'mean'),\n",
    "    avg_multi_mode=('Multi-player', 'mean')\n",
    ")"
   ]
  },
  {
   "cell_type": "code",
   "execution_count": 20,
   "id": "b89593fd",
   "metadata": {},
   "outputs": [],
   "source": [
    "# This code is maybe not so neccessery, since 'id' column is unique. Every game will have mode/mean of 1 record,\n",
    "# but it is the fastest way to ensure users and products will be desribed by the same values\n",
    "\n",
    "products = products.groupby('id').agg(\n",
    "    most_freq_series=('series_id', pd.Series.mode),\n",
    "    most_freq_genre_1=('genre_1_id', pd.Series.mode),\n",
    "    most_freq_genre_2=('genre_2_id', pd.Series.mode),\n",
    "    most_freq_genre_3=('genre_3_id', pd.Series.mode),\n",
    "    most_freq_dev=('developer_id', pd.Series.mode),\n",
    "    most_freq_pub=('publisher_id', pd.Series.mode),\n",
    "    avg_price=('price', 'mean'),\n",
    "    avg_single_mode=('Single-player', 'mean'),\n",
    "    avg_coop_mode=('Co-op', 'mean'),\n",
    "    avg_multi_mode=('Multi-player', 'mean')\n",
    ")"
   ]
  },
  {
   "cell_type": "markdown",
   "id": "70647b41",
   "metadata": {},
   "source": [
    "#### Using cosine similiarity distance and KNN algorithmwe can determine which products recommend"
   ]
  },
  {
   "cell_type": "code",
   "execution_count": 21,
   "id": "99d25b40",
   "metadata": {},
   "outputs": [],
   "source": [
    "from scipy.spatial import distance\n",
    "from sklearn.neighbors import NearestNeighbors"
   ]
  },
  {
   "cell_type": "code",
   "execution_count": 22,
   "id": "cf0f7bfc",
   "metadata": {},
   "outputs": [
    {
     "data": {
      "text/html": [
       "<style>#sk-container-id-1 {color: black;background-color: white;}#sk-container-id-1 pre{padding: 0;}#sk-container-id-1 div.sk-toggleable {background-color: white;}#sk-container-id-1 label.sk-toggleable__label {cursor: pointer;display: block;width: 100%;margin-bottom: 0;padding: 0.3em;box-sizing: border-box;text-align: center;}#sk-container-id-1 label.sk-toggleable__label-arrow:before {content: \"▸\";float: left;margin-right: 0.25em;color: #696969;}#sk-container-id-1 label.sk-toggleable__label-arrow:hover:before {color: black;}#sk-container-id-1 div.sk-estimator:hover label.sk-toggleable__label-arrow:before {color: black;}#sk-container-id-1 div.sk-toggleable__content {max-height: 0;max-width: 0;overflow: hidden;text-align: left;background-color: #f0f8ff;}#sk-container-id-1 div.sk-toggleable__content pre {margin: 0.2em;color: black;border-radius: 0.25em;background-color: #f0f8ff;}#sk-container-id-1 input.sk-toggleable__control:checked~div.sk-toggleable__content {max-height: 200px;max-width: 100%;overflow: auto;}#sk-container-id-1 input.sk-toggleable__control:checked~label.sk-toggleable__label-arrow:before {content: \"▾\";}#sk-container-id-1 div.sk-estimator input.sk-toggleable__control:checked~label.sk-toggleable__label {background-color: #d4ebff;}#sk-container-id-1 div.sk-label input.sk-toggleable__control:checked~label.sk-toggleable__label {background-color: #d4ebff;}#sk-container-id-1 input.sk-hidden--visually {border: 0;clip: rect(1px 1px 1px 1px);clip: rect(1px, 1px, 1px, 1px);height: 1px;margin: -1px;overflow: hidden;padding: 0;position: absolute;width: 1px;}#sk-container-id-1 div.sk-estimator {font-family: monospace;background-color: #f0f8ff;border: 1px dotted black;border-radius: 0.25em;box-sizing: border-box;margin-bottom: 0.5em;}#sk-container-id-1 div.sk-estimator:hover {background-color: #d4ebff;}#sk-container-id-1 div.sk-parallel-item::after {content: \"\";width: 100%;border-bottom: 1px solid gray;flex-grow: 1;}#sk-container-id-1 div.sk-label:hover label.sk-toggleable__label {background-color: #d4ebff;}#sk-container-id-1 div.sk-serial::before {content: \"\";position: absolute;border-left: 1px solid gray;box-sizing: border-box;top: 0;bottom: 0;left: 50%;z-index: 0;}#sk-container-id-1 div.sk-serial {display: flex;flex-direction: column;align-items: center;background-color: white;padding-right: 0.2em;padding-left: 0.2em;position: relative;}#sk-container-id-1 div.sk-item {position: relative;z-index: 1;}#sk-container-id-1 div.sk-parallel {display: flex;align-items: stretch;justify-content: center;background-color: white;position: relative;}#sk-container-id-1 div.sk-item::before, #sk-container-id-1 div.sk-parallel-item::before {content: \"\";position: absolute;border-left: 1px solid gray;box-sizing: border-box;top: 0;bottom: 0;left: 50%;z-index: -1;}#sk-container-id-1 div.sk-parallel-item {display: flex;flex-direction: column;z-index: 1;position: relative;background-color: white;}#sk-container-id-1 div.sk-parallel-item:first-child::after {align-self: flex-end;width: 50%;}#sk-container-id-1 div.sk-parallel-item:last-child::after {align-self: flex-start;width: 50%;}#sk-container-id-1 div.sk-parallel-item:only-child::after {width: 0;}#sk-container-id-1 div.sk-dashed-wrapped {border: 1px dashed gray;margin: 0 0.4em 0.5em 0.4em;box-sizing: border-box;padding-bottom: 0.4em;background-color: white;}#sk-container-id-1 div.sk-label label {font-family: monospace;font-weight: bold;display: inline-block;line-height: 1.2em;}#sk-container-id-1 div.sk-label-container {text-align: center;}#sk-container-id-1 div.sk-container {/* jupyter's `normalize.less` sets `[hidden] { display: none; }` but bootstrap.min.css set `[hidden] { display: none !important; }` so we also need the `!important` here to be able to override the default hidden behavior on the sphinx rendered scikit-learn.org. See: https://github.com/scikit-learn/scikit-learn/issues/21755 */display: inline-block !important;position: relative;}#sk-container-id-1 div.sk-text-repr-fallback {display: none;}</style><div id=\"sk-container-id-1\" class=\"sk-top-container\"><div class=\"sk-text-repr-fallback\"><pre>NearestNeighbors(algorithm=&#x27;brute&#x27;, metric=&#x27;cosine&#x27;, n_neighbors=10)</pre><b>In a Jupyter environment, please rerun this cell to show the HTML representation or trust the notebook. <br />On GitHub, the HTML representation is unable to render, please try loading this page with nbviewer.org.</b></div><div class=\"sk-container\" hidden><div class=\"sk-item\"><div class=\"sk-estimator sk-toggleable\"><input class=\"sk-toggleable__control sk-hidden--visually\" id=\"sk-estimator-id-1\" type=\"checkbox\" checked><label for=\"sk-estimator-id-1\" class=\"sk-toggleable__label sk-toggleable__label-arrow\">NearestNeighbors</label><div class=\"sk-toggleable__content\"><pre>NearestNeighbors(algorithm=&#x27;brute&#x27;, metric=&#x27;cosine&#x27;, n_neighbors=10)</pre></div></div></div></div></div>"
      ],
      "text/plain": [
       "NearestNeighbors(algorithm='brute', metric='cosine', n_neighbors=10)"
      ]
     },
     "execution_count": 22,
     "metadata": {},
     "output_type": "execute_result"
    }
   ],
   "source": [
    "knn = NearestNeighbors(n_neighbors=10, algorithm='brute', metric='cosine')\n",
    "knn.fit(products)"
   ]
  },
  {
   "cell_type": "code",
   "execution_count": 23,
   "id": "0785e3fc",
   "metadata": {},
   "outputs": [
    {
     "name": "stderr",
     "output_type": "stream",
     "text": [
      "C:\\Users\\user\\anaconda3\\lib\\site-packages\\sklearn\\base.py:409: UserWarning: X does not have valid feature names, but NearestNeighbors was fitted with feature names\n",
      "  warnings.warn(\n"
     ]
    }
   ],
   "source": [
    "user_id = 98\n",
    "distances, indices = knn.kneighbors(users.values)"
   ]
  },
  {
   "cell_type": "code",
   "execution_count": 24,
   "id": "77138047",
   "metadata": {},
   "outputs": [],
   "source": [
    "indices = indices.reshape(-1)\n",
    "\n",
    "products.reset_index(inplace=True)"
   ]
  },
  {
   "cell_type": "code",
   "execution_count": 31,
   "id": "9bb3f0b0",
   "metadata": {},
   "outputs": [
    {
     "data": {
      "image/png": "[encoded data removed]",
      "text/plain": [
       "<Figure size 640x480 with 1 Axes>"
      ]
     },
     "metadata": {},
     "output_type": "display_data"
    }
   ],
   "source": [
    "\n",
    "fig = plt.figure()\n",
    "ax = fig.add_subplot(projection='3d')\n",
    "\n",
    "ax.scatter(\n",
    "    products['most_freq_genre_1'], \n",
    "    products['most_freq_genre_2'], \n",
    "    products['most_freq_genre_3'],\n",
    "    marker='.',\n",
    "    c='y',\n",
    "    s=10,\n",
    "    label='Products'\n",
    "        )\n",
    "ax.scatter(\n",
    "    users['most_freq_genre_1'], \n",
    "    users['most_freq_genre_2'], \n",
    "    users['most_freq_genre_3'],\n",
    "    marker='.',\n",
    "    c='g',\n",
    "    s=30,\n",
    "    label='User'\n",
    "        )\n",
    "ax.scatter(\n",
    "    products['most_freq_genre_1'].loc[indices], \n",
    "    products['most_freq_genre_2'].loc[indices], \n",
    "    products['most_freq_genre_3'].loc[indices],\n",
    "    marker='.',\n",
    "    c='r',\n",
    "    s=30,\n",
    "    label='Recommendation'\n",
    "        )\n",
    "plt.title('Product Recommendation')\n",
    "plt.legend()\n",
    "# ax.set_xlim(30, 50)\n",
    "# ax.set_ylim(110, 140)\n",
    "# ax.set_zlim(0, 40)\n",
    "plt.show()"
   ]
  },
  {
   "cell_type": "code",
   "execution_count": 29,
   "id": "dc635f27",
   "metadata": {},
   "outputs": [],
   "source": [
    "mean_similarity = distances.mean()"
   ]
  },
  {
   "cell_type": "code",
   "execution_count": 30,
   "id": "770e4d68",
   "metadata": {},
   "outputs": [
    {
     "data": {
      "text/plain": [
       "0.0015727749917883334"
      ]
     },
     "execution_count": 30,
     "metadata": {},
     "output_type": "execute_result"
    }
   ],
   "source": [
    "mean_similarity"
   ]
  },
  {
   "cell_type": "code",
   "execution_count": 33,
   "id": "42cfe4b9",
   "metadata": {},
   "outputs": [],
   "source": [
    "from typing import List, Tuple\n",
    "\n",
    "def get_recommendations(user_id) -> List[Tuple[int, float]]:\n",
    "    user_input = users.loc[user_id].values.reshape(1, -1)\n",
    "    distances, indices = knn.kneighbors(user_input)\n",
    "    distances, indices = distances.reshape(-1), indices.reshape(-1)\n",
    "    return [(int(indices[i]), float(distances[i])) for i in range(len(indices))]"
   ]
  },
  {
   "cell_type": "code",
   "execution_count": 34,
   "id": "615fc816",
   "metadata": {},
   "outputs": [
    {
     "name": "stderr",
     "output_type": "stream",
     "text": [
      "C:\\Users\\user\\anaconda3\\lib\\site-packages\\sklearn\\base.py:409: UserWarning: X does not have valid feature names, but NearestNeighbors was fitted with feature names\n",
      "  warnings.warn(\n"
     ]
    },
    {
     "data": {
      "text/plain": [
       "[(0, 0.0),\n",
       " (222, 0.00042291412274719775),\n",
       " (1, 0.000726548972268426),\n",
       " (223, 0.0007536516158245243),\n",
       " (92, 0.0008206872484596284),\n",
       " (93, 0.0008559051977174992),\n",
       " (94, 0.0009315600128964041),\n",
       " (109, 0.0018192880253067312),\n",
       " (185, 0.003124609431185754),\n",
       " (113, 0.0034449729522332273)]"
      ]
     },
     "execution_count": 34,
     "metadata": {},
     "output_type": "execute_result"
    }
   ],
   "source": [
    "get_recommendations(9)"
   ]
  },
  {
   "cell_type": "code",
   "execution_count": null,
   "id": "c6db5a6f",
   "metadata": {},
   "outputs": [],
   "source": []
  }
 ],
 "metadata": {
  "kernelspec": {
   "display_name": "Python 3 (ipykernel)",
   "language": "python",
   "name": "python3"
  },
  "language_info": {
   "codemirror_mode": {
    "name": "ipython",
    "version": 3
   },
   "file_extension": ".py",
   "mimetype": "text/x-python",
   "name": "python",
   "nbconvert_exporter": "python",
   "pygments_lexer": "ipython3",
   "version": "3.8.5"
  }
 },
 "nbformat": 4,
 "nbformat_minor": 5
}
